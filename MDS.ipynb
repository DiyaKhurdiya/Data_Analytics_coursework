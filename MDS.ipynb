{
  "nbformat": 4,
  "nbformat_minor": 0,
  "metadata": {
    "colab": {
      "provenance": [],
      "toc_visible": true
    },
    "kernelspec": {
      "name": "python3",
      "display_name": "Python 3"
    },
    "language_info": {
      "name": "python"
    }
  },
  "cells": [
    {
      "cell_type": "code",
      "source": [
        "import pandas as pd\n",
        "import numpy as np\n",
        "from sklearn import manifold\n",
        "import matplotlib.pyplot as plt"
      ],
      "metadata": {
        "id": "gx7jYzHsmyIK"
      },
      "execution_count": null,
      "outputs": []
    },
    {
      "cell_type": "code",
      "source": [
        "data = pd.read_csv(\"/content/breakfast_inclass - MDS (1).csv\", index_col = 'Similarities')\n",
        "print(data)"
      ],
      "metadata": {
        "colab": {
          "base_uri": "https://localhost:8080/"
        },
        "id": "zTqjs-vQokY5",
        "outputId": "b33fd74b-dab8-43b6-f1c3-cff022fdb1b3"
      },
      "execution_count": null,
      "outputs": [
        {
          "output_type": "stream",
          "name": "stdout",
          "text": [
            "                         Ham eggs and home fries  Pancakes and sausage  \\\n",
            "Similarities                                                             \n",
            "Ham eggs and home fries                        0                     2   \n",
            "Pancakes and sausage                           2                     0   \n",
            "Instant breakfast                             45                    43   \n",
            "Pastry and or toast                           30                    32   \n",
            "Hot cereal                                    16                    18   \n",
            "Eggs                                           5                     6   \n",
            "Lox and bagels                                21                    24   \n",
            "Bacon and eggs                                 1                     3   \n",
            "Cold cereal                                   31                    28   \n",
            "Fruit dish                                    40                    42   \n",
            "\n",
            "                         Instant breakfast  Pastry and or toast  Hot cereal  \\\n",
            "Similarities                                                                  \n",
            "Ham eggs and home fries                 45                   30          16   \n",
            "Pancakes and sausage                    43                   32          18   \n",
            "Instant breakfast                        0                   17          22   \n",
            "Pastry and or toast                     17                    0          25   \n",
            "Hot cereal                              22                   25           0   \n",
            "Eggs                                    33                   38           7   \n",
            "Lox and bagels                          35                   14          29   \n",
            "Bacon and eggs                          41                   44          11   \n",
            "Cold cereal                              8                   10          13   \n",
            "Fruit dish                               9                   15          27   \n",
            "\n",
            "                         Eggs  Lox and bagels  Bacon and eggs  Cold cereal  \\\n",
            "Similarities                                                                 \n",
            "Ham eggs and home fries     5              21               1           31   \n",
            "Pancakes and sausage        6              24               3           28   \n",
            "Instant breakfast          33              35              41            8   \n",
            "Pastry and or toast        38              14              44           10   \n",
            "Hot cereal                  7              29              11           13   \n",
            "Eggs                        0              20               4           19   \n",
            "Lox and bagels             20               0              26           23   \n",
            "Bacon and eggs              4              26               0           34   \n",
            "Cold cereal                19              23              34            0   \n",
            "Fruit dish                 36              37              39           12   \n",
            "\n",
            "                         Fruit dish  \n",
            "Similarities                         \n",
            "Ham eggs and home fries          40  \n",
            "Pancakes and sausage             42  \n",
            "Instant breakfast                 9  \n",
            "Pastry and or toast              15  \n",
            "Hot cereal                       27  \n",
            "Eggs                             36  \n",
            "Lox and bagels                   37  \n",
            "Bacon and eggs                   39  \n",
            "Cold cereal                      12  \n",
            "Fruit dish                        0  \n"
          ]
        }
      ]
    },
    {
      "cell_type": "code",
      "source": [
        "mds = manifold.MDS(n_components=2, metric = False, dissimilarity = \"precomputed\", random_state = 42)\n",
        "results = mds.fit(data.values)"
      ],
      "metadata": {
        "colab": {
          "base_uri": "https://localhost:8080/"
        },
        "id": "qjpYFp-jpmz3",
        "outputId": "ccbb3933-b743-437a-cbaa-97a02fc40bd0"
      },
      "execution_count": null,
      "outputs": [
        {
          "output_type": "stream",
          "name": "stderr",
          "text": [
            "/usr/local/lib/python3.9/dist-packages/sklearn/manifold/_mds.py:299: FutureWarning: The default value of `normalized_stress` will change to `'auto'` in version 1.4. To suppress this warning, manually set the value of `normalized_stress`.\n",
            "  warnings.warn(\n"
          ]
        }
      ]
    },
    {
      "cell_type": "code",
      "source": [
        "breakfast = data.columns\n",
        "print(breakfast)"
      ],
      "metadata": {
        "colab": {
          "base_uri": "https://localhost:8080/"
        },
        "id": "4ZuQDm2kqc4I",
        "outputId": "10e6bc9a-be07-4fef-e139-73b11d74a59c"
      },
      "execution_count": null,
      "outputs": [
        {
          "output_type": "stream",
          "name": "stdout",
          "text": [
            "Index(['Ham eggs and home fries', 'Pancakes and sausage', 'Instant breakfast',\n",
            "       'Pastry and or toast', 'Hot cereal', 'Eggs', 'Lox and bagels',\n",
            "       'Bacon and eggs', 'Cold cereal', 'Fruit dish'],\n",
            "      dtype='object')\n"
          ]
        }
      ]
    },
    {
      "cell_type": "code",
      "source": [
        "coords = results.embedding_\n",
        "coords"
      ],
      "metadata": {
        "colab": {
          "base_uri": "https://localhost:8080/"
        },
        "id": "2WHA9e9MrN-x",
        "outputId": "7144bb57-f14d-4291-8f7d-519c9975f0dc"
      },
      "execution_count": null,
      "outputs": [
        {
          "output_type": "execute_result",
          "data": {
            "text/plain": [
              "array([[ 0.28763458,  0.38006597],\n",
              "       [ 0.35206826,  0.32232641],\n",
              "       [-0.12064726, -0.57079132],\n",
              "       [-0.40765423, -0.20606146],\n",
              "       [ 0.23376215, -0.03941062],\n",
              "       [ 0.23216766,  0.18335556],\n",
              "       [-0.35243061,  0.33454409],\n",
              "       [ 0.24334533,  0.41510324],\n",
              "       [ 0.00469539, -0.44287305],\n",
              "       [-0.51974854, -0.38973761]])"
            ]
          },
          "metadata": {},
          "execution_count": 9
        }
      ]
    },
    {
      "cell_type": "code",
      "source": [
        "fig = plt.figure(figsize=(8,8))\n",
        "plt.scatter(coords[:,0], coords[:,1])\n",
        "\n",
        "for label, x, y in zip(breakfast, coords[:, 0], coords[:, 1]):\n",
        "  plt.annotate(\n",
        "      label,\n",
        "      xy = (x,y),\n",
        "      xytext = (-5,5),\n",
        "      textcoords = 'offset points')\n",
        "plt.show()"
      ],
      "metadata": {
        "colab": {
          "base_uri": "https://localhost:8080/",
          "height": 483
        },
        "id": "24T99gDYrzyV",
        "outputId": "38a92a5b-5706-40e4-e396-4756c582a296"
      },
      "execution_count": null,
      "outputs": [
        {
          "output_type": "display_data",
          "data": {
            "text/plain": [
              "<Figure size 576x576 with 1 Axes>"
            ],
            "image/png": "[encoded data removed]"
          },
          "metadata": {
            "needs_background": "light"
          }
        }
      ]
    }
  ]
}